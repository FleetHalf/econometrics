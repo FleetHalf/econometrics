{
 "cells": [
  {
   "cell_type": "markdown",
   "metadata": {},
   "source": [
    "# Learning Econometrics in a unique way:\n",
    "So far, I have just been reading the assumptions and statements given in the textbook as facts, and never actually stopped to question myself 'Why'?\n",
    "Hence, here are a few ideas that I'd be covering in this jupiter file:\n",
    "- Stating the assumptions (Simple and Multiple linear regressions)and actually testing them using fabricated sample data/datasets found on kaggle\n",
    "- Creating a table to show clear calculation of the residuals, error terms, etc\n",
    "- Creating neat regression tables with p-values shown and interpreting these values for fun regressions (like impact of taylor swift's songs on peoples' moods, movie dataset, etc.)\n",
    "\n",
    "My ultimate goal is learn this subject properly, and also share this knowledge to people around the world.\n",
    "In this goal, I wish to cover:\n",
    "- Handling and setting up my data properly for regressions\n",
    "- Writing clean lines of code with proper comments\n",
    "- Creating great visualizations using matplotlib and seaborn\n",
    "- (Maybe in the future)Creating animated plots using dash for people to understand econometrics even better"
   ]
  },
  {
   "cell_type": "markdown",
   "metadata": {},
   "source": [
    "## 01. Showing the meaning of unbiasedness using data"
   ]
  },
  {
   "cell_type": "markdown",
   "metadata": {},
   "source": [
    "#### 01. Importing the required libraries:\n"
   ]
  },
  {
   "cell_type": "code",
   "execution_count": 1,
   "metadata": {},
   "outputs": [],
   "source": [
    "import numpy as np\n",
    "import statsmodels.api as sm\n",
    "import matplotlib.pyplot as plt"
   ]
  },
  {
   "cell_type": "markdown",
   "metadata": {},
   "source": [
    "#### 02. Creating a fixed population and setting the parameter values \n",
    "The PRF is given by $$ y = \\beta_0 + \\beta_1 x + u $$\n",
    "\n",
    "Our explanatory variable follows a uniform distribution to avoid clustering around the mean. Error term is normally distributed following the OLS assumption that over large values, the error term is normally distributed. "
   ]
  },
  {
   "cell_type": "code",
   "execution_count": null,
   "metadata": {},
   "outputs": [],
   "source": [
    "np.random.seed(42)  # For reproducibility\n",
    "N = 100000  # Population size\n",
    "beta_0 = 5  # True intercept\n",
    "beta_1 = 2  # True slope\n",
    "x_population = np.random.uniform(0, 10, N)  # Random x values\n",
    "u_population = np.random.normal(0, 2, N)  # Error term with mean 0, variance 4\n",
    "y_population = beta_0 + beta_1 * x_population + u_population  # Population regression function "
   ]
  },
  {
   "cell_type": "markdown",
   "metadata": {},
   "source": [
    "#### 03. Running repeated sampling and storing the values"
   ]
  },
  {
   "cell_type": "code",
   "execution_count": 3,
   "metadata": {},
   "outputs": [],
   "source": [
    "num_samples = 1000  # Number of samples to take\n",
    "sample_size = 100  # Size of each sample\n",
    "beta_1_estimates = []  # Store estimated beta_1 values"
   ]
  },
  {
   "cell_type": "markdown",
   "metadata": {},
   "source": [
    "#### 04. Running a loop to run the regression on each of the sample and storing the beta_1 values in the list"
   ]
  },
  {
   "cell_type": "code",
   "execution_count": 4,
   "metadata": {},
   "outputs": [],
   "source": [
    "for _ in range(num_samples):\n",
    "    sample_indices = np.random.choice(N, sample_size, replace=False)  # Random sample\n",
    "    x_sample = x_population[sample_indices]\n",
    "    y_sample = y_population[sample_indices]\n",
    "    X_sample = sm.add_constant(x_sample)  # Add intercept term\n",
    "    model = sm.OLS(y_sample, X_sample).fit()\n",
    "    beta_1_estimates.append(model.params[1])  # Store estimated beta_1"
   ]
  },
  {
   "cell_type": "markdown",
   "metadata": {},
   "source": [
    "#### 05. Computing the Mean of Estimated Coefficients"
   ]
  },
  {
   "cell_type": "code",
   "execution_count": 5,
   "metadata": {},
   "outputs": [
    {
     "name": "stdout",
     "output_type": "stream",
     "text": [
      "True beta_1: 2, Mean estimated beta_1: 2.0042903351532653\n"
     ]
    }
   ],
   "source": [
    "mean_beta_1 = np.mean(beta_1_estimates)\n",
    "print(f\"True beta_1: {beta_1}, Mean estimated beta_1: {mean_beta_1}\")"
   ]
  },
  {
   "cell_type": "markdown",
   "metadata": {},
   "source": [
    "#### 06. Visualizing the beta values"
   ]
  },
  {
   "cell_type": "code",
   "execution_count": 6,
   "metadata": {},
   "outputs": [
    {
     "data": {
      "image/png": "[encoded data removed]",
      "text/plain": [
       "<Figure size 800x500 with 1 Axes>"
      ]
     },
     "metadata": {},
     "output_type": "display_data"
    }
   ],
   "source": [
    "plt.figure(figsize=(8, 5))\n",
    "plt.hist(beta_1_estimates, bins=30, alpha=0.7, color='blue', edgecolor='black')\n",
    "plt.axvline(beta_1, color='red', linestyle='dashed', linewidth=2, label=f'True beta_1 = {beta_1}')\n",
    "plt.xlabel(\"Estimated beta_1\")\n",
    "plt.ylabel(\"Frequency\")\n",
    "plt.title(\"Distribution of Estimated beta_1 Across Samples\")\n",
    "plt.legend()\n",
    "plt.show()"
   ]
  },
  {
   "cell_type": "markdown",
   "metadata": {},
   "source": [
    "Therefore, we can see that the values of beta_1 obtained by running a regression on each of the sample mostly follow a normal distribution, with their average value equal to (almost) the true population parameter, which is 2.\n",
    "This is what is meant when we say that OLS estimators are unbiased. "
   ]
  },
  {
   "cell_type": "markdown",
   "metadata": {},
   "source": [
    "#### 07. Summary of what steps we did (and why)\n",
    "1. We first defined the population regression function (PRF) and set the number of observations in the population to 100,000.\n",
    "2. Then, we set the slope and intercept as 2 and 5, respectively. This creates the y value, and accordingly synthetic data adjusts. \n",
    "3. Thus, we can change the values, and the property would still hold. \n",
    "4. Next, we take 1,000 samples of 100 each, and store the values of $ \\hat{\\beta}_1 $ that we get after running a regression on each sample in the list.\n",
    "5. Finally, we take the average of the $ \\hat{\\beta}_1 $ and see how close it is to the population values"
   ]
  }
 ],
 "metadata": {
  "kernelspec": {
   "display_name": "base",
   "language": "python",
   "name": "python3"
  },
  "language_info": {
   "codemirror_mode": {
    "name": "ipython",
    "version": 3
   },
   "file_extension": ".py",
   "mimetype": "text/x-python",
   "name": "python",
   "nbconvert_exporter": "python",
   "pygments_lexer": "ipython3",
   "version": "3.10.9"
  }
 },
 "nbformat": 4,
 "nbformat_minor": 2
}
