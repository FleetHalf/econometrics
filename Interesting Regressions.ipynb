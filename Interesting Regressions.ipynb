{
 "cells": [
  {
   "cell_type": "markdown",
   "metadata": {},
   "source": [
    "# Learning Econometrics in a unique way:\n",
    "So far, I have just been reading the assumptions and statements given in the textbook as facts, and never actually stopped to question myself 'Why'?\n",
    "Hence, here are a few ideas that I'd be covering in this jupiter file:\n",
    "- Stating the assumptions (Simple and Multiple linear regressions)and actually testing them using fabricated sample data/datasets found on kaggle\n",
    "- Creating a table to show clear calculation of the residuals, error terms, etc\n",
    "- Creating neat regression tables with p-values shown and interpreting these values for fun regressions (like impact of taylor swift's songs on peoples' moods, movie dataset, etc.)\n",
    "\n",
    "My ultimate goal is learn this subject properly, and also share this knowledge to people around the world.\n",
    "In this goal, I wish to cover:\n",
    "- Handling and setting up my data properly for regressions\n",
    "- Writing clean lines of code with proper comments\n",
    "- Creating great visualizations using matplotlib and seaborn\n",
    "- (Maybe in the future)Creating animated plots using dash for people to understand econometrics even better"
   ]
  }
 ],
 "metadata": {
  "kernelspec": {
   "display_name": "base",
   "language": "python",
   "name": "python3"
  },
  "language_info": {
   "name": "python",
   "version": "3.10.9"
  }
 },
 "nbformat": 4,
 "nbformat_minor": 2
}
