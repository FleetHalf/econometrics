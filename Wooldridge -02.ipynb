{
 "cells": [
  {
   "cell_type": "markdown",
   "metadata": {},
   "source": [
    "# 00: Practice problems from Wooldridge chapter 2"
   ]
  },
  {
   "cell_type": "markdown",
   "metadata": {},
   "source": [
    "## 00. Code to load and install the necessary libraries"
   ]
  },
  {
   "cell_type": "code",
   "execution_count": 1,
   "metadata": {},
   "outputs": [
    {
     "name": "stdout",
     "output_type": "stream",
     "text": [
      "Collecting wooldridge\n",
      "  Downloading wooldridge-0.4.5-py3-none-any.whl (5.1 MB)\n",
      "     ---------------------------------------- 5.1/5.1 MB 2.4 MB/s eta 0:00:00\n",
      "Requirement already satisfied: pandas in c:\\users\\adityatheemp\\anaconda3\\lib\\site-packages (from wooldridge) (2.2.3)\n",
      "Requirement already satisfied: tzdata>=2022.7 in c:\\users\\adityatheemp\\anaconda3\\lib\\site-packages (from pandas->wooldridge) (2023.3)\n",
      "Requirement already satisfied: python-dateutil>=2.8.2 in c:\\users\\adityatheemp\\anaconda3\\lib\\site-packages (from pandas->wooldridge) (2.8.2)\n",
      "Requirement already satisfied: numpy>=1.22.4 in c:\\users\\adityatheemp\\anaconda3\\lib\\site-packages (from pandas->wooldridge) (1.24.4)\n",
      "Requirement already satisfied: pytz>=2020.1 in c:\\users\\adityatheemp\\anaconda3\\lib\\site-packages (from pandas->wooldridge) (2022.7)\n",
      "Requirement already satisfied: six>=1.5 in c:\\users\\adityatheemp\\anaconda3\\lib\\site-packages (from python-dateutil>=2.8.2->pandas->wooldridge) (1.16.0)\n",
      "Installing collected packages: wooldridge\n",
      "Successfully installed wooldridge-0.4.5\n"
     ]
    }
   ],
   "source": [
    "! pip install wooldridge\n"
   ]
  },
  {
   "cell_type": "code",
   "execution_count": 2,
   "metadata": {},
   "outputs": [],
   "source": [
    "import wooldridge as wd  \n",
    "import pandas as pd  \n",
    "import numpy as np  \n",
    "import statsmodels.api as sm  \n",
    "import statsmodels.formula.api as smf  \n",
    "import matplotlib.pyplot as plt  "
   ]
  },
  {
   "cell_type": "markdown",
   "metadata": {},
   "source": [
    "## 01. Loading the datasets and running the regressions and interpreting them"
   ]
  },
  {
   "cell_type": "code",
   "execution_count": null,
   "metadata": {},
   "outputs": [],
   "source": []
  }
 ],
 "metadata": {
  "kernelspec": {
   "display_name": "base",
   "language": "python",
   "name": "python3"
  },
  "language_info": {
   "codemirror_mode": {
    "name": "ipython",
    "version": 3
   },
   "file_extension": ".py",
   "mimetype": "text/x-python",
   "name": "python",
   "nbconvert_exporter": "python",
   "pygments_lexer": "ipython3",
   "version": "3.10.9"
  }
 },
 "nbformat": 4,
 "nbformat_minor": 2
}
