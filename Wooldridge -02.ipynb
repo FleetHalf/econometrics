{
 "cells": [
  {
   "cell_type": "markdown",
   "metadata": {},
   "source": [
    "# 00: Practice problems from Wooldridge chapter 2"
   ]
  },
  {
   "cell_type": "markdown",
   "metadata": {},
   "source": [
    "## 00. Code to load and install the necessary libraries"
   ]
  },
  {
   "cell_type": "code",
   "execution_count": 1,
   "metadata": {},
   "outputs": [
    {
     "name": "stdout",
     "output_type": "stream",
     "text": [
      "Collecting wooldridge\n",
      "  Downloading wooldridge-0.4.5-py3-none-any.whl (5.1 MB)\n",
      "     ---------------------------------------- 5.1/5.1 MB 2.4 MB/s eta 0:00:00\n",
      "Requirement already satisfied: pandas in c:\\users\\adityatheemp\\anaconda3\\lib\\site-packages (from wooldridge) (2.2.3)\n",
      "Requirement already satisfied: tzdata>=2022.7 in c:\\users\\adityatheemp\\anaconda3\\lib\\site-packages (from pandas->wooldridge) (2023.3)\n",
      "Requirement already satisfied: python-dateutil>=2.8.2 in c:\\users\\adityatheemp\\anaconda3\\lib\\site-packages (from pandas->wooldridge) (2.8.2)\n",
      "Requirement already satisfied: numpy>=1.22.4 in c:\\users\\adityatheemp\\anaconda3\\lib\\site-packages (from pandas->wooldridge) (1.24.4)\n",
      "Requirement already satisfied: pytz>=2020.1 in c:\\users\\adityatheemp\\anaconda3\\lib\\site-packages (from pandas->wooldridge) (2022.7)\n",
      "Requirement already satisfied: six>=1.5 in c:\\users\\adityatheemp\\anaconda3\\lib\\site-packages (from python-dateutil>=2.8.2->pandas->wooldridge) (1.16.0)\n",
      "Installing collected packages: wooldridge\n",
      "Successfully installed wooldridge-0.4.5\n"
     ]
    }
   ],
   "source": [
    "! pip install wooldridge\n"
   ]
  },
  {
   "cell_type": "code",
   "execution_count": 2,
   "metadata": {},
   "outputs": [],
   "source": [
    "import wooldridge as wd  \n",
    "import pandas as pd  \n",
    "import numpy as np  \n",
    "import statsmodels.api as sm  \n",
    "import statsmodels.formula.api as smf  \n",
    "import matplotlib.pyplot as plt  "
   ]
  },
  {
   "cell_type": "markdown",
   "metadata": {},
   "source": [
    "## 01. Loading the datasets and running the regressions and interpreting them"
   ]
  },
  {
   "cell_type": "code",
   "execution_count": 5,
   "metadata": {},
   "outputs": [
    {
     "name": "stdout",
     "output_type": "stream",
     "text": [
      "<bound method NDFrame.head of            prate  mrate  totpart  totelg  age  totemp  sole   ltotemp\n",
      "0      26.100000   0.21   1653.0  6322.0    8  8709.0     0  9.072112\n",
      "1     100.000000   1.42    262.0   262.0    6   315.0     1  5.752573\n",
      "2      97.599998   0.91    166.0   170.0   10   275.0     1  5.616771\n",
      "3     100.000000   0.42    257.0   257.0    7   500.0     0  6.214608\n",
      "4      82.500000   0.53    591.0   716.0   28   933.0     1  6.838405\n",
      "...          ...    ...      ...     ...  ...     ...   ...       ...\n",
      "1529   85.099998   0.33    553.0   650.0   24   907.0     0  6.810143\n",
      "1530  100.000000   2.52    142.0   142.0   17   197.0     1  5.283204\n",
      "1531  100.000000   2.27   1928.0  1928.0   35  2171.0     0  7.682943\n",
      "1532  100.000000   0.58    166.0   166.0    8   931.0     1  6.836259\n",
      "1533  100.000000   0.45   2179.0  2179.0   24  3187.0     0  8.066835\n",
      "\n",
      "[1534 rows x 8 columns]>\n"
     ]
    }
   ],
   "source": [
    "df = wd.data('401k')\n",
    "print(df.head)"
   ]
  }
 ],
 "metadata": {
  "kernelspec": {
   "display_name": "base",
   "language": "python",
   "name": "python3"
  },
  "language_info": {
   "codemirror_mode": {
    "name": "ipython",
    "version": 3
   },
   "file_extension": ".py",
   "mimetype": "text/x-python",
   "name": "python",
   "nbconvert_exporter": "python",
   "pygments_lexer": "ipython3",
   "version": "3.10.9"
  }
 },
 "nbformat": 4,
 "nbformat_minor": 2
}
