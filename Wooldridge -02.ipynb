{
 "cells": [
  {
   "cell_type": "markdown",
   "metadata": {},
   "source": [
    "# 00: Simulations for basic concepts in wooldridge "
   ]
  },
  {
   "cell_type": "markdown",
   "metadata": {},
   "source": [
    "## 01. Showing the meaning of unbiasedness using data"
   ]
  },
  {
   "cell_type": "markdown",
   "metadata": {},
   "source": [
    "### 00. Code to load and install the necessary libraries"
   ]
  },
  {
   "cell_type": "code",
   "execution_count": 1,
   "metadata": {},
   "outputs": [],
   "source": [
    "import wooldridge as wd  \n",
    "import pandas as pd  \n",
    "import numpy as np  \n",
    "import statsmodels.api as sm  \n",
    "import statsmodels.formula.api as smf  \n",
    "import matplotlib.pyplot as plt  "
   ]
  },
  {
   "cell_type": "markdown",
   "metadata": {},
   "source": [
    "### 01. Creating a fixed population and setting the parameter values\n",
    "The PRF is given by $$ y = \\beta_0 + \\beta_1 x + u $$\n",
    "\n",
    "Our explanatory variable follows a uniform distribution to avoid clustering around the mean. Error term is normally distributed following the OLS assumption that over large values, the error term is normally distributed. "
   ]
  },
  {
   "cell_type": "code",
   "execution_count": 2,
   "metadata": {},
   "outputs": [],
   "source": [
    "np.random.seed(42)  # For reproducibility\n",
    "N = 100000  # Population size\n",
    "beta_0 = 5  # True intercept\n",
    "beta_1 = 2  # True slope\n",
    "x_population = np.random.uniform(0, 10, N)  # Random x values\n",
    "u_population = np.random.normal(0, 2, N)  # Error term with mean 0, variance 4\n",
    "y_population = beta_0 + beta_1 * x_population + u_population  # Population regression function "
   ]
  },
  {
   "cell_type": "markdown",
   "metadata": {},
   "source": [
    "### 02. Running repeated sampling and storing the values"
   ]
  },
  {
   "cell_type": "code",
   "execution_count": 3,
   "metadata": {},
   "outputs": [],
   "source": [
    "num_samples = 1000  # Number of samples to take\n",
    "sample_size = 100  # Size of each sample\n",
    "beta_1_estimates = []  # Store estimated beta_1 values"
   ]
  },
  {
   "cell_type": "markdown",
   "metadata": {},
   "source": [
    "### 03. Running a loop to run the regression on each of the sample and storing the beta_1 values in the list"
   ]
  },
  {
   "cell_type": "code",
   "execution_count": 4,
   "metadata": {},
   "outputs": [],
   "source": [
    "for _ in range(num_samples):\n",
    "    sample_indices = np.random.choice(N, sample_size, replace=False)  # Random sample\n",
    "    x_sample = x_population[sample_indices]\n",
    "    y_sample = y_population[sample_indices]\n",
    "    X_sample = sm.add_constant(x_sample)  # Add intercept term\n",
    "    model = sm.OLS(y_sample, X_sample).fit()\n",
    "    beta_1_estimates.append(model.params[1])  # Store estimated beta_1"
   ]
  },
  {
   "cell_type": "markdown",
   "metadata": {},
   "source": [
    "### 04. Computing the mean of estimated values"
   ]
  },
  {
   "cell_type": "code",
   "execution_count": 5,
   "metadata": {},
   "outputs": [
    {
     "name": "stdout",
     "output_type": "stream",
     "text": [
      "True beta_1: 2, Mean estimated beta_1: 2.0042903351532653\n"
     ]
    }
   ],
   "source": [
    "mean_beta_1 = np.mean(beta_1_estimates)\n",
    "print(f\"True beta_1: {beta_1}, Mean estimated beta_1: {mean_beta_1}\")"
   ]
  },
  {
   "cell_type": "markdown",
   "metadata": {},
   "source": [
    "### 05. Visualizing the Beta Values"
   ]
  },
  {
   "cell_type": "code",
   "execution_count": 6,
   "metadata": {},
   "outputs": [
    {
     "data": {
      "image/png": "[encoded data removed]",
      "text/plain": [
       "<Figure size 800x500 with 1 Axes>"
      ]
     },
     "metadata": {},
     "output_type": "display_data"
    }
   ],
   "source": [
    "plt.figure(figsize=(8, 5))\n",
    "plt.hist(beta_1_estimates, bins=30, alpha=0.7, color='blue', edgecolor='black')\n",
    "plt.axvline(beta_1, color='red', linestyle='dashed', linewidth=2, label=f'True beta_1 = {beta_1}')\n",
    "plt.xlabel(\"Estimated beta_1\")\n",
    "plt.ylabel(\"Frequency\")\n",
    "plt.title(\"Distribution of Estimated beta_1 Across Samples\")\n",
    "plt.legend()\n",
    "plt.show()"
   ]
  },
  {
   "cell_type": "markdown",
   "metadata": {},
   "source": [
    "### 06. Summary of the steps:\n",
    "1. We first defined the population regression function (PRF) and set the number of observations in the population to 100,000.\n",
    "2. Then, we set the slope and intercept as 2 and 5, respectively. This creates the y value, and accordingly synthetic data adjusts. \n",
    "3. Thus, we can change the values, and the property would still hold. \n",
    "4. Next, we take 1,000 samples of 100 each, and store the values of $ \\hat{\\beta}_1 $ that we get after running a regression on each sample in the list.\n",
    "5. Finally, we take the average of the $ \\hat{\\beta}_1 $ and see how close it is to the population values"
   ]
  },
  {
   "cell_type": "markdown",
   "metadata": {},
   "source": [
    "## 02. Violating the assumptions and practically understanding what happens to our model when the assumptions are violated"
   ]
  },
  {
   "cell_type": "markdown",
   "metadata": {},
   "source": [
    "### 00. Loading the dataset"
   ]
  },
  {
   "cell_type": "code",
   "execution_count": 7,
   "metadata": {},
   "outputs": [],
   "source": [
    "import seaborn as sns \n",
    "mpg = sns.load_dataset('mpg')\n",
    "mpg = mpg.dropna()"
   ]
  },
  {
   "cell_type": "markdown",
   "metadata": {},
   "source": [
    "### 02. Running a multiple linear regression using two variables first.\n",
    "The regression equation would be $$ \\widehat{mpg} = \\hat{\\beta}_0 + \\hat{\\beta}_1 \\cdot hpower + \\hat{\\beta}_2 \\cdot weight $$ where $\\hat{\\beta}_1 $ gives us the impact of a unit increase in the horsepower on the fuel average, and $ \\hat{\\beta}_2 $ gives us the impact of a unit increase in engine weight on the fuel average of the vehicle."
   ]
  },
  {
   "cell_type": "code",
   "execution_count": 8,
   "metadata": {},
   "outputs": [
    {
     "name": "stdout",
     "output_type": "stream",
     "text": [
      "                            OLS Regression Results                            \n",
      "==============================================================================\n",
      "Dep. Variable:                    mpg   R-squared:                       0.706\n",
      "Model:                            OLS   Adj. R-squared:                  0.705\n",
      "Method:                 Least Squares   F-statistic:                     467.9\n",
      "Date:                Sat, 10 May 2025   Prob (F-statistic):          3.06e-104\n",
      "Time:                        10:49:47   Log-Likelihood:                -1121.0\n",
      "No. Observations:                 392   AIC:                             2248.\n",
      "Df Residuals:                     389   BIC:                             2260.\n",
      "Df Model:                           2                                         \n",
      "Covariance Type:            nonrobust                                         \n",
      "==============================================================================\n",
      "                 coef    std err          t      P>|t|      [0.025      0.975]\n",
      "------------------------------------------------------------------------------\n",
      "const         45.6402      0.793     57.540      0.000      44.081      47.200\n",
      "horsepower    -0.0473      0.011     -4.267      0.000      -0.069      -0.026\n",
      "weight        -0.0058      0.001    -11.535      0.000      -0.007      -0.005\n",
      "==============================================================================\n",
      "Omnibus:                       35.336   Durbin-Watson:                   0.858\n",
      "Prob(Omnibus):                  0.000   Jarque-Bera (JB):               45.973\n",
      "Skew:                           0.683   Prob(JB):                     1.04e-10\n",
      "Kurtosis:                       3.974   Cond. No.                     1.15e+04\n",
      "==============================================================================\n",
      "\n",
      "Notes:\n",
      "[1] Standard Errors assume that the covariance matrix of the errors is correctly specified.\n",
      "[2] The condition number is large, 1.15e+04. This might indicate that there are\n",
      "strong multicollinearity or other numerical problems.\n"
     ]
    }
   ],
   "source": [
    "# Select relevant variables\n",
    "X = mpg[['horsepower', 'weight']]  # Independent variables\n",
    "y = mpg['mpg']  # Dependent variable\n",
    "# Adding a constant for the intercept\n",
    "X = sm.add_constant(X)\n",
    "# Run the regression\n",
    "model = sm.OLS(y, X).fit()\n",
    "# Print summary\n",
    "print(model.summary())"
   ]
  },
  {
   "cell_type": "markdown",
   "metadata": {},
   "source": [
    "### 03. Violating the linearity assumption by making one of the coefficients quadratic, and running the following regression:\n",
    "$$\n",
    "\\hat{mpg}_i = \\hat{\\beta}_0 + \\hat{\\beta}_1^2 \\cdot horsepower_i + \\hat{\\beta}_2 \\cdot weight_i + u_i\n",
    "$$"
   ]
  },
  {
   "cell_type": "code",
   "execution_count": 9,
   "metadata": {},
   "outputs": [
    {
     "name": "stdout",
     "output_type": "stream",
     "text": [
      "                            OLS Regression Results                            \n",
      "==============================================================================\n",
      "Dep. Variable:                mpg_mod   R-squared:                       0.970\n",
      "Model:                            OLS   Adj. R-squared:                  0.970\n",
      "Method:                 Least Squares   F-statistic:                     6389.\n",
      "Date:                Sat, 10 May 2025   Prob (F-statistic):          3.23e-298\n",
      "Time:                        10:50:29   Log-Likelihood:                -3468.4\n",
      "No. Observations:                 392   AIC:                             6943.\n",
      "Df Residuals:                     389   BIC:                             6955.\n",
      "Df Model:                           2                                         \n",
      "Covariance Type:            nonrobust                                         \n",
      "==============================================================================\n",
      "                 coef    std err          t      P>|t|      [0.025      0.975]\n",
      "------------------------------------------------------------------------------\n",
      "const      -1.226e+04    316.296    -38.752      0.000   -1.29e+04   -1.16e+04\n",
      "horsepower   280.1976      4.420     63.389      0.000     271.507     288.888\n",
      "weight        -1.5557      0.200     -7.767      0.000      -1.950      -1.162\n",
      "==============================================================================\n",
      "Omnibus:                      107.219   Durbin-Watson:                   1.341\n",
      "Prob(Omnibus):                  0.000   Jarque-Bera (JB):              249.423\n",
      "Skew:                           1.373   Prob(JB):                     6.89e-55\n",
      "Kurtosis:                       5.779   Cond. No.                     1.15e+04\n",
      "==============================================================================\n",
      "\n",
      "Notes:\n",
      "[1] Standard Errors assume that the covariance matrix of the errors is correctly specified.\n",
      "[2] The condition number is large, 1.15e+04. This might indicate that there are\n",
      "strong multicollinearity or other numerical problems.\n"
     ]
    },
    {
     "data": {
      "image/png": "[encoded data removed]",
      "text/plain": [
       "<Figure size 800x500 with 1 Axes>"
      ]
     },
     "metadata": {},
     "output_type": "display_data"
    }
   ],
   "source": [
    "mpg['mpg_mod'] = mpg['horsepower']**2 + (-0.003 * mpg['weight']) + np.random.normal(0, 2, len(mpg))\n",
    "\n",
    "# Define the incorrect OLS model (which assumes linearity in parameters)\n",
    "X = mpg[['horsepower', 'weight']]\n",
    "X = sm.add_constant(X)  # Add intercept\n",
    "y = mpg['mpg_mod']\n",
    "\n",
    "# Fit the regression model\n",
    "model = sm.OLS(y, X).fit()\n",
    "\n",
    "# Print summary results\n",
    "print(model.summary())\n",
    "\n",
    "# Plot residuals to check for patterns\n",
    "plt.figure(figsize=(8, 5))\n",
    "sns.residplot(x=model.fittedvalues, y=model.resid, lowess=True, line_kws={'color': 'red'})\n",
    "plt.xlabel(\"Fitted Values\")\n",
    "plt.ylabel(\"Residuals\")\n",
    "plt.title(\"Residual Plot - Violation of Linearity in Parameters\")\n",
    "plt.show()"
   ]
  },
  {
   "cell_type": "markdown",
   "metadata": {},
   "source": [
    "As we can see, there are a number of problems that arise when the coefficient becomes non-linear:\n",
    "1. $ R^2 $ has a massive jump, which shows that the model might be overfitting\n",
    "2. The residual plot shows a curvy graph, which shows that the regression is no longer linear\n",
    "3. Both the slope coefficients, as well as the intercept show a massive jump in their values, compared to the linear model, which show how distorted the estimators have become"
   ]
  },
  {
   "cell_type": "markdown",
   "metadata": {},
   "source": [
    "### 04. Violating the random sampling assumption by filtering and selecting data."
   ]
  },
  {
   "cell_type": "code",
   "execution_count": 10,
   "metadata": {},
   "outputs": [
    {
     "name": "stdout",
     "output_type": "stream",
     "text": [
      "                            OLS Regression Results                            \n",
      "==============================================================================\n",
      "Dep. Variable:                    mpg   R-squared:                       0.642\n",
      "Model:                            OLS   Adj. R-squared:                  0.638\n",
      "Method:                 Least Squares   F-statistic:                     132.0\n",
      "Date:                Sat, 10 May 2025   Prob (F-statistic):           1.50e-33\n",
      "Time:                        10:51:25   Log-Likelihood:                -348.08\n",
      "No. Observations:                 150   AIC:                             702.2\n",
      "Df Residuals:                     147   BIC:                             711.2\n",
      "Df Model:                           2                                         \n",
      "Covariance Type:            nonrobust                                         \n",
      "==============================================================================\n",
      "                 coef    std err          t      P>|t|      [0.025      0.975]\n",
      "------------------------------------------------------------------------------\n",
      "const         36.5562      1.245     29.372      0.000      34.097      39.016\n",
      "horsepower    -0.0307      0.009     -3.545      0.001      -0.048      -0.014\n",
      "weight        -0.0040      0.000     -9.231      0.000      -0.005      -0.003\n",
      "==============================================================================\n",
      "Omnibus:                       40.797   Durbin-Watson:                   1.075\n",
      "Prob(Omnibus):                  0.000   Jarque-Bera (JB):              110.216\n",
      "Skew:                           1.071   Prob(JB):                     1.17e-24\n",
      "Kurtosis:                       6.613   Cond. No.                     2.36e+04\n",
      "==============================================================================\n",
      "\n",
      "Notes:\n",
      "[1] Standard Errors assume that the covariance matrix of the errors is correctly specified.\n",
      "[2] The condition number is large, 2.36e+04. This might indicate that there are\n",
      "strong multicollinearity or other numerical problems.\n"
     ]
    },
    {
     "name": "stderr",
     "output_type": "stream",
     "text": [
      "c:\\Users\\AdityaTheEmp\\anaconda3\\lib\\site-packages\\seaborn\\_oldcore.py:1119: FutureWarning: use_inf_as_na option is deprecated and will be removed in a future version. Convert inf values to NaN before operating instead.\n",
      "  with pd.option_context('mode.use_inf_as_na', True):\n",
      "c:\\Users\\AdityaTheEmp\\anaconda3\\lib\\site-packages\\seaborn\\_oldcore.py:1119: FutureWarning: use_inf_as_na option is deprecated and will be removed in a future version. Convert inf values to NaN before operating instead.\n",
      "  with pd.option_context('mode.use_inf_as_na', True):\n"
     ]
    },
    {
     "data": {
      "image/png": "[encoded data removed]",
      "text/plain": [
       "<Figure size 640x480 with 1 Axes>"
      ]
     },
     "metadata": {},
     "output_type": "display_data"
    }
   ],
   "source": [
    "mpg_biased = mpg[mpg['horsepower'] > 100]\n",
    "\n",
    "# Define independent (X) and dependent (y) variables\n",
    "y_biased = mpg_biased['mpg']\n",
    "X_biased = mpg_biased[['horsepower', 'weight']]\n",
    "X_biased = sm.add_constant(X_biased)  # Add intercept\n",
    "\n",
    "# Run OLS regression on biased sample\n",
    "model_biased = sm.OLS(y_biased, X_biased).fit()\n",
    "print(model_biased.summary())\n",
    "\n",
    "# Visualizing the impact of selection bias\n",
    "sns.histplot(mpg['horsepower'], kde=True, color='blue', label='Original Data', alpha=0.5)\n",
    "sns.histplot(mpg_biased['horsepower'], kde=True, color='red', label='Biased Data', alpha=0.5)\n",
    "plt.xlabel(\"Horsepower\")\n",
    "plt.ylabel(\"Count\")\n",
    "plt.title(\"Selection Bias: Distribution of Horsepower\")\n",
    "plt.legend()\n",
    "plt.show()"
   ]
  },
  {
   "cell_type": "markdown",
   "metadata": {},
   "source": [
    "Due to the violation of random sampling assumption, we see that:\n",
    "- $ R^2 $ is reduced, because the model does not completely explain the variation\n",
    "- Coefficient values are also distorted."
   ]
  },
  {
   "cell_type": "markdown",
   "metadata": {},
   "source": [
    "# 01. Practice Problems from Wooldridge "
   ]
  },
  {
   "cell_type": "markdown",
   "metadata": {},
   "source": [
    "## 01. Loading the datasets and running the regressions and interpreting them"
   ]
  },
  {
   "cell_type": "markdown",
   "metadata": {},
   "source": [
    "### C1"
   ]
  },
  {
   "cell_type": "code",
   "execution_count": 2,
   "metadata": {},
   "outputs": [
    {
     "name": "stdout",
     "output_type": "stream",
     "text": [
      "<bound method NDFrame.head of            prate  mrate  totpart  totelg  age  totemp  sole   ltotemp\n",
      "0      26.100000   0.21   1653.0  6322.0    8  8709.0     0  9.072112\n",
      "1     100.000000   1.42    262.0   262.0    6   315.0     1  5.752573\n",
      "2      97.599998   0.91    166.0   170.0   10   275.0     1  5.616771\n",
      "3     100.000000   0.42    257.0   257.0    7   500.0     0  6.214608\n",
      "4      82.500000   0.53    591.0   716.0   28   933.0     1  6.838405\n",
      "...          ...    ...      ...     ...  ...     ...   ...       ...\n",
      "1529   85.099998   0.33    553.0   650.0   24   907.0     0  6.810143\n",
      "1530  100.000000   2.52    142.0   142.0   17   197.0     1  5.283204\n",
      "1531  100.000000   2.27   1928.0  1928.0   35  2171.0     0  7.682943\n",
      "1532  100.000000   0.58    166.0   166.0    8   931.0     1  6.836259\n",
      "1533  100.000000   0.45   2179.0  2179.0   24  3187.0     0  8.066835\n",
      "\n",
      "[1534 rows x 8 columns]>\n"
     ]
    }
   ],
   "source": [
    "df = wd.data('401k')\n",
    "print(df.head)"
   ]
  },
  {
   "cell_type": "markdown",
   "metadata": {},
   "source": [
    "Q1. Find the average participation rate and the average match rate in the sample of\n",
    "plans."
   ]
  },
  {
   "cell_type": "code",
   "execution_count": null,
   "metadata": {},
   "outputs": [
    {
     "data": {
      "text/plain": [
       "87.3629074562948"
      ]
     },
     "execution_count": 4,
     "metadata": {},
     "output_type": "execute_result"
    }
   ],
   "source": [
    "df['prate'].mean()\n",
    "df['mrate'].mean()"
   ]
  },
  {
   "cell_type": "markdown",
   "metadata": {},
   "source": [
    "Q2. Estimate the sample regression equation:\n",
    "$$\n",
    "\\hat{prate} = \\hat{\\beta}_0 + \\hat{\\beta}_1 \\cdot mrate\n",
    "$$"
   ]
  },
  {
   "cell_type": "code",
   "execution_count": 6,
   "metadata": {},
   "outputs": [
    {
     "name": "stdout",
     "output_type": "stream",
     "text": [
      "                            OLS Regression Results                            \n",
      "==============================================================================\n",
      "Dep. Variable:                  prate   R-squared:                       0.075\n",
      "Model:                            OLS   Adj. R-squared:                  0.074\n",
      "Method:                 Least Squares   F-statistic:                     123.7\n",
      "Date:                Mon, 17 Feb 2025   Prob (F-statistic):           1.10e-27\n",
      "Time:                        17:10:03   Log-Likelihood:                -6437.0\n",
      "No. Observations:                1534   AIC:                         1.288e+04\n",
      "Df Residuals:                    1532   BIC:                         1.289e+04\n",
      "Df Model:                           1                                         \n",
      "Covariance Type:            nonrobust                                         \n",
      "==============================================================================\n",
      "                 coef    std err          t      P>|t|      [0.025      0.975]\n",
      "------------------------------------------------------------------------------\n",
      "Intercept     83.0755      0.563    147.484      0.000      81.971      84.180\n",
      "mrate          5.8611      0.527     11.121      0.000       4.827       6.895\n",
      "==============================================================================\n",
      "Omnibus:                      394.767   Durbin-Watson:                   1.908\n",
      "Prob(Omnibus):                  0.000   Jarque-Bera (JB):              870.172\n",
      "Skew:                          -1.444   Prob(JB):                    1.11e-189\n",
      "Kurtosis:                       5.296   Cond. No.                         2.32\n",
      "==============================================================================\n",
      "\n",
      "Notes:\n",
      "[1] Standard Errors assume that the covariance matrix of the errors is correctly specified.\n"
     ]
    }
   ],
   "source": [
    "model = smf.ols('prate ~ mrate', data = df).fit()\n",
    "print(model.summary())"
   ]
  },
  {
   "cell_type": "markdown",
   "metadata": {},
   "source": [
    "The equation then becomes $ \\hat{prate} = 83.07 + 5.86 mrate + \\epsilon $"
   ]
  },
  {
   "cell_type": "markdown",
   "metadata": {},
   "source": [
    "Q3. Interpret the intercept in your equation"
   ]
  },
  {
   "cell_type": "markdown",
   "metadata": {},
   "source": [
    "Basically, when the mrate is set to 0, the participation rate is 83.7 "
   ]
  },
  {
   "cell_type": "markdown",
   "metadata": {},
   "source": [
    "Q4. Find the predicted prate when mrate = 3.5."
   ]
  },
  {
   "cell_type": "markdown",
   "metadata": {},
   "source": [
    "- When mrate is 3.5, the prate is approximately 103.58. This is impossible, though, since we can have a participation rate of 100% at most."
   ]
  },
  {
   "cell_type": "markdown",
   "metadata": {},
   "source": [
    "Q5. How much of the variation in prate is explained by mrate? Is this a lot in your\n",
    "opinion?\n",
    "- It explains about 7.5% of the variation, which is not a lot. This shows that there are other actors that affect the dependent variable. "
   ]
  },
  {
   "cell_type": "markdown",
   "metadata": {},
   "source": [
    "### C2"
   ]
  },
  {
   "cell_type": "code",
   "execution_count": 3,
   "metadata": {},
   "outputs": [
    {
     "data": {
      "application/vnd.microsoft.datawrangler.viewer.v0+json": {
       "columns": [
        {
         "name": "index",
         "rawType": "int64",
         "type": "integer"
        },
        {
         "name": "salary",
         "rawType": "int64",
         "type": "integer"
        },
        {
         "name": "age",
         "rawType": "int64",
         "type": "integer"
        },
        {
         "name": "college",
         "rawType": "int64",
         "type": "integer"
        },
        {
         "name": "grad",
         "rawType": "int64",
         "type": "integer"
        },
        {
         "name": "comten",
         "rawType": "int64",
         "type": "integer"
        },
        {
         "name": "ceoten",
         "rawType": "int64",
         "type": "integer"
        },
        {
         "name": "sales",
         "rawType": "float64",
         "type": "float"
        },
        {
         "name": "profits",
         "rawType": "int64",
         "type": "integer"
        },
        {
         "name": "mktval",
         "rawType": "float64",
         "type": "float"
        },
        {
         "name": "lsalary",
         "rawType": "float64",
         "type": "float"
        },
        {
         "name": "lsales",
         "rawType": "float64",
         "type": "float"
        },
        {
         "name": "lmktval",
         "rawType": "float64",
         "type": "float"
        },
        {
         "name": "comtensq",
         "rawType": "int64",
         "type": "integer"
        },
        {
         "name": "ceotensq",
         "rawType": "int64",
         "type": "integer"
        },
        {
         "name": "profmarg",
         "rawType": "float64",
         "type": "float"
        }
       ],
       "conversionMethod": "pd.DataFrame",
       "ref": "77fdff89-54e7-46d1-aabe-5f85a9649139",
       "rows": [
        [
         "0",
         "1161",
         "49",
         "1",
         "1",
         "9",
         "2",
         "6200.0",
         "966",
         "23200.0",
         "7.057036876678467",
         "8.732304573059082",
         "10.051907539367676",
         "81",
         "4",
         "15.580645561218262"
        ],
        [
         "1",
         "600",
         "43",
         "1",
         "1",
         "10",
         "10",
         "283.0",
         "48",
         "1100.0",
         "6.396929740905762",
         "5.64544677734375",
         "7.003065586090088",
         "100",
         "100",
         "16.961130142211914"
        ],
        [
         "2",
         "379",
         "51",
         "1",
         "1",
         "9",
         "3",
         "169.0",
         "40",
         "1100.0",
         "5.937536239624023",
         "5.129898548126221",
         "7.003065586090088",
         "81",
         "9",
         "23.66863822937012"
        ],
        [
         "3",
         "651",
         "55",
         "1",
         "0",
         "22",
         "22",
         "1100.0",
         "-54",
         "1000.0",
         "6.478509426116943",
         "7.003065586090088",
         "6.907755374908447",
         "484",
         "484",
         "-4.909090995788574"
        ],
        [
         "4",
         "497",
         "44",
         "1",
         "1",
         "8",
         "6",
         "351.0",
         "28",
         "387.0",
         "6.208590030670166",
         "5.860786437988281",
         "5.9584245681762695",
         "64",
         "36",
         "7.977208137512207"
        ],
        [
         "5",
         "1067",
         "64",
         "1",
         "1",
         "7",
         "7",
         "19000.0",
         "614",
         "3900.0",
         "6.972606182098389",
         "9.85219383239746",
         "8.268732070922852",
         "49",
         "49",
         "3.231579065322876"
        ],
        [
         "6",
         "945",
         "59",
         "1",
         "0",
         "35",
         "10",
         "536.0",
         "24",
         "623.0",
         "6.851184844970703",
         "6.284134387969971",
         "6.43454647064209",
         "1225",
         "100",
         "4.477612018585205"
        ],
        [
         "7",
         "1261",
         "63",
         "1",
         "1",
         "32",
         "8",
         "4800.0",
         "191",
         "2100.0",
         "7.139660358428955",
         "8.476370811462402",
         "7.649692535400391",
         "1024",
         "64",
         "3.9791667461395264"
        ],
        [
         "8",
         "503",
         "47",
         "1",
         "1",
         "4",
         "4",
         "610.0",
         "7",
         "454.0",
         "6.220590114593506",
         "6.413458824157715",
         "6.118097305297852",
         "16",
         "16",
         "1.1475409269332886"
        ],
        [
         "9",
         "1094",
         "64",
         "1",
         "1",
         "39",
         "5",
         "2900.0",
         "230",
         "3900.0",
         "6.99759578704834",
         "7.972465991973877",
         "8.268732070922852",
         "1521",
         "25",
         "7.931034564971924"
        ],
        [
         "10",
         "601",
         "54",
         "1",
         "1",
         "26",
         "7",
         "1200.0",
         "34",
         "533.0",
         "6.398594856262207",
         "7.090076923370361",
         "6.278521537780762",
         "676",
         "49",
         "2.8333332538604736"
        ],
        [
         "11",
         "355",
         "66",
         "1",
         "0",
         "39",
         "8",
         "560.0",
         "8",
         "477.0",
         "5.87211799621582",
         "6.32793664932251",
         "6.167516708374023",
         "1521",
         "64",
         "1.4285714626312256"
        ],
        [
         "12",
         "1200",
         "72",
         "1",
         "0",
         "37",
         "37",
         "796.0",
         "35",
         "678.0",
         "7.090076923370361",
         "6.679599285125732",
         "6.519147396087647",
         "1369",
         "1369",
         "4.396985054016113"
        ],
        [
         "13",
         "697",
         "51",
         "1",
         "0",
         "25",
         "1",
         "8200.0",
         "234",
         "5700.0",
         "6.546785354614258",
         "9.011889457702637",
         "8.648221015930176",
         "625",
         "1",
         "2.853658437728882"
        ],
        [
         "14",
         "1041",
         "63",
         "1",
         "1",
         "21",
         "11",
         "4300.0",
         "91",
         "1400.0",
         "6.94793701171875",
         "8.36637020111084",
         "7.244227409362793",
         "441",
         "121",
         "2.116279125213623"
        ],
        [
         "15",
         "245",
         "44",
         "1",
         "1",
         "7",
         "7",
         "135.0",
         "24",
         "558.0",
         "5.501258373260498",
         "4.905274868011475",
         "6.324358940124512",
         "49",
         "49",
         "17.77777862548828"
        ],
        [
         "16",
         "817",
         "68",
         "1",
         "0",
         "38",
         "4",
         "1300.0",
         "55",
         "847.0",
         "6.705638885498047",
         "7.170119762420654",
         "6.741700649261475",
         "1444",
         "16",
         "4.230769157409668"
        ],
        [
         "17",
         "1675",
         "71",
         "0",
         "0",
         "31",
         "12",
         "674.0",
         "115",
         "1200.0",
         "7.423568248748779",
         "6.513230323791504",
         "7.090076923370361",
         "961",
         "144",
         "17.062314987182617"
        ],
        [
         "18",
         "971",
         "72",
         "1",
         "1",
         "33",
         "24",
         "1400.0",
         "69",
         "609.0",
         "6.878326416015625",
         "7.244227409362793",
         "6.411818504333496",
         "1089",
         "576",
         "4.928571224212647"
        ],
        [
         "19",
         "609",
         "58",
         "1",
         "0",
         "36",
         "1",
         "1100.0",
         "69",
         "880.0",
         "6.411818504333496",
         "7.003065586090088",
         "6.779922008514404",
         "1296",
         "1",
         "6.272727489471436"
        ],
        [
         "20",
         "470",
         "60",
         "1",
         "1",
         "20",
         "6",
         "2300.0",
         "210",
         "2200.0",
         "6.152732849121094",
         "7.740664482116699",
         "7.696212768554687",
         "400",
         "36",
         "9.1304349899292"
        ],
        [
         "21",
         "867",
         "59",
         "1",
         "0",
         "36",
         "14",
         "884.0",
         "81",
         "1500.0",
         "6.765038967132568",
         "6.784457206726074",
         "7.313220500946045",
         "1296",
         "196",
         "9.162896156311035"
        ],
        [
         "22",
         "752",
         "54",
         "1",
         "0",
         "32",
         "4",
         "1600.0",
         "193",
         "3200.0",
         "6.62273645401001",
         "7.377758979797363",
         "8.070905685424805",
         "1024",
         "16",
         "12.0625"
        ],
        [
         "23",
         "246",
         "51",
         "1",
         "0",
         "8",
         "8",
         "78.0",
         "13",
         "458.0",
         "5.505331516265869",
         "4.356709003448486",
         "6.126869201660156",
         "64",
         "64",
         "16.66666603088379"
        ],
        [
         "24",
         "825",
         "56",
         "1",
         "1",
         "4",
         "4",
         "10700.0",
         "295",
         "5900.0",
         "6.715383529663086",
         "9.277998924255373",
         "8.682707786560059",
         "16",
         "16",
         "2.757009267807007"
        ],
        [
         "25",
         "358",
         "50",
         "1",
         "1",
         "23",
         "4",
         "99.0",
         "25",
         "2300.0",
         "5.880533218383789",
         "4.595119953155518",
         "7.740664482116699",
         "529",
         "16",
         "25.252525329589844"
        ],
        [
         "26",
         "1162",
         "58",
         "1",
         "0",
         "24",
         "6",
         "3800.0",
         "226",
         "1800.0",
         "7.057898044586182",
         "8.242755889892578",
         "7.495542049407959",
         "576",
         "36",
         "5.947368621826172"
        ],
        [
         "27",
         "270",
         "43",
         "1",
         "0",
         "15",
         "2",
         "150.0",
         "28",
         "713.0",
         "5.598422050476074",
         "5.0106353759765625",
         "6.569481372833252",
         "225",
         "4",
         "18.66666603088379"
        ],
        [
         "28",
         "829",
         "56",
         "1",
         "0",
         "14",
         "8",
         "2200.0",
         "184",
         "1500.0",
         "6.72022008895874",
         "7.696212768554687",
         "7.313220500946045",
         "196",
         "64",
         "8.363636016845703"
        ],
        [
         "29",
         "300",
         "77",
         "0",
         "0",
         "45",
         "26",
         "6900.0",
         "483",
         "4700.0",
         "5.703782558441162",
         "8.839276313781738",
         "8.455317497253418",
         "2025",
         "676",
         "7.0"
        ],
        [
         "30",
         "1627",
         "62",
         "1",
         "1",
         "13",
         "4",
         "8300.0",
         "596",
         "9100.0",
         "7.394493103027344",
         "9.02401065826416",
         "9.116029739379885",
         "169",
         "16",
         "7.180722713470459"
        ],
        [
         "31",
         "1237",
         "63",
         "1",
         "1",
         "37",
         "9",
         "4600.0",
         "108",
         "6200.0",
         "7.120444297790527",
         "8.43381118774414",
         "8.732304573059082",
         "1369",
         "81",
         "2.3478260040283203"
        ],
        [
         "32",
         "540",
         "61",
         "1",
         "1",
         "37",
         "1",
         "5200.0",
         "549",
         "5600.0",
         "6.291569232940674",
         "8.556413650512695",
         "8.630521774291992",
         "1369",
         "1",
         "10.557692527770996"
        ],
        [
         "33",
         "1798",
         "66",
         "1",
         "1",
         "21",
         "14",
         "24300.0",
         "338",
         "12500.0",
         "7.494430065155029",
         "10.098231315612791",
         "9.433484077453612",
         "441",
         "196",
         "1.3909465074539185"
        ],
        [
         "34",
         "474",
         "40",
         "1",
         "0",
         "18",
         "1",
         "2700.0",
         "117",
         "2000.0",
         "6.16120719909668",
         "7.901007175445557",
         "7.600902557373047",
         "324",
         "1",
         "4.333333492279053"
        ],
        [
         "35",
         "1336",
         "60",
         "1",
         "1",
         "21",
         "13",
         "4500.0",
         "562",
         "4300.0",
         "7.19743537902832",
         "8.411832809448242",
         "8.36637020111084",
         "441",
         "169",
         "12.48888874053955"
        ],
        [
         "36",
         "541",
         "51",
         "1",
         "0",
         "30",
         "4",
         "1400.0",
         "82",
         "1200.0",
         "6.293419361114502",
         "7.244227409362793",
         "7.090076923370361",
         "900",
         "16",
         "5.857142925262451"
        ],
        [
         "37",
         "129",
         "66",
         "1",
         "1",
         "4",
         "4",
         "59.0",
         "28",
         "412.0",
         "4.859812259674072",
         "4.077537536621094",
         "6.021023273468018",
         "16",
         "16",
         "47.45762634277344"
        ],
        [
         "38",
         "1700",
         "54",
         "1",
         "1",
         "21",
         "5",
         "6800.0",
         "1200",
         "20400.0",
         "7.43838357925415",
         "8.824677467346191",
         "9.923290252685549",
         "441",
         "25",
         "17.647058486938477"
        ],
        [
         "39",
         "1750",
         "66",
         "1",
         "1",
         "31",
         "24",
         "16200.0",
         "1400",
         "17900.0",
         "7.467370986938477",
         "9.692766189575195",
         "9.792555809020996",
         "961",
         "576",
         "8.641975402832031"
        ],
        [
         "40",
         "624",
         "61",
         "1",
         "1",
         "21",
         "13",
         "1100.0",
         "109",
         "934.0",
         "6.436150550842285",
         "7.003065586090088",
         "6.839476585388184",
         "441",
         "169",
         "9.909090995788574"
        ],
        [
         "41",
         "791",
         "66",
         "1",
         "0",
         "14",
         "8",
         "2300.0",
         "-60",
         "487.0",
         "6.673297882080078",
         "7.740664482116699",
         "6.188263893127441",
         "196",
         "64",
         "-2.60869574546814"
        ],
        [
         "42",
         "1487",
         "51",
         "1",
         "0",
         "3",
         "3",
         "22200.0",
         "182",
         "2800.0",
         "7.304515838623047",
         "10.007847785949709",
         "7.937374591827393",
         "9",
         "9",
         "0.8198198080062866"
        ],
        [
         "43",
         "2021",
         "56",
         "1",
         "0",
         "34",
         "3",
         "51300.0",
         "2700",
         "42900.0",
         "7.611347675323486",
         "10.84544563293457",
         "10.666626930236816",
         "1156",
         "9",
         "5.263157844543457"
        ],
        [
         "44",
         "1550",
         "47",
         "1",
         "1",
         "19",
         "3",
         "1100.0",
         "120",
         "4900.0",
         "7.346010208129883",
         "7.003065586090088",
         "8.496990203857422",
         "361",
         "9",
         "10.909090995788574"
        ],
        [
         "45",
         "401",
         "64",
         "1",
         "0",
         "44",
         "8",
         "571.0",
         "57",
         "670.0",
         "5.993961334228516",
         "6.347389221191406",
         "6.507277488708496",
         "1936",
         "64",
         "9.982486724853516"
        ],
        [
         "46",
         "1295",
         "62",
         "1",
         "0",
         "8",
         "8",
         "10700.0",
         "1300",
         "16400.0",
         "7.166265964508057",
         "9.277998924255373",
         "9.705036163330078",
         "64",
         "64",
         "12.149532318115234"
        ],
        [
         "47",
         "449",
         "56",
         "1",
         "0",
         "31",
         "1",
         "661.0",
         "37",
         "538.0",
         "6.107022762298584",
         "6.493753910064697",
         "6.287858486175537",
         "961",
         "1",
         "5.597579479217529"
        ],
        [
         "48",
         "456",
         "56",
         "1",
         "1",
         "9",
         "3",
         "381.0",
         "34",
         "6700.0",
         "6.122492790222168",
         "5.9427995681762695",
         "8.809863090515137",
         "81",
         "9",
         "8.923884391784668"
        ],
        [
         "49",
         "1142",
         "53",
         "1",
         "1",
         "30",
         "1",
         "28000.0",
         "1900",
         "26300.0",
         "7.040536403656006",
         "10.239959716796877",
         "10.177324295043944",
         "900",
         "1",
         "6.785714149475098"
        ]
       ],
       "shape": {
        "columns": 15,
        "rows": 177
       }
      },
      "text/html": [
       "<div>\n",
       "<style scoped>\n",
       "    .dataframe tbody tr th:only-of-type {\n",
       "        vertical-align: middle;\n",
       "    }\n",
       "\n",
       "    .dataframe tbody tr th {\n",
       "        vertical-align: top;\n",
       "    }\n",
       "\n",
       "    .dataframe thead th {\n",
       "        text-align: right;\n",
       "    }\n",
       "</style>\n",
       "<table border=\"1\" class=\"dataframe\">\n",
       "  <thead>\n",
       "    <tr style=\"text-align: right;\">\n",
       "      <th></th>\n",
       "      <th>salary</th>\n",
       "      <th>age</th>\n",
       "      <th>college</th>\n",
       "      <th>grad</th>\n",
       "      <th>comten</th>\n",
       "      <th>ceoten</th>\n",
       "      <th>sales</th>\n",
       "      <th>profits</th>\n",
       "      <th>mktval</th>\n",
       "      <th>lsalary</th>\n",
       "      <th>lsales</th>\n",
       "      <th>lmktval</th>\n",
       "      <th>comtensq</th>\n",
       "      <th>ceotensq</th>\n",
       "      <th>profmarg</th>\n",
       "    </tr>\n",
       "  </thead>\n",
       "  <tbody>\n",
       "    <tr>\n",
       "      <th>0</th>\n",
       "      <td>1161</td>\n",
       "      <td>49</td>\n",
       "      <td>1</td>\n",
       "      <td>1</td>\n",
       "      <td>9</td>\n",
       "      <td>2</td>\n",
       "      <td>6200.0</td>\n",
       "      <td>966</td>\n",
       "      <td>23200.0</td>\n",
       "      <td>7.057037</td>\n",
       "      <td>8.732305</td>\n",
       "      <td>10.051908</td>\n",
       "      <td>81</td>\n",
       "      <td>4</td>\n",
       "      <td>15.580646</td>\n",
       "    </tr>\n",
       "    <tr>\n",
       "      <th>1</th>\n",
       "      <td>600</td>\n",
       "      <td>43</td>\n",
       "      <td>1</td>\n",
       "      <td>1</td>\n",
       "      <td>10</td>\n",
       "      <td>10</td>\n",
       "      <td>283.0</td>\n",
       "      <td>48</td>\n",
       "      <td>1100.0</td>\n",
       "      <td>6.396930</td>\n",
       "      <td>5.645447</td>\n",
       "      <td>7.003066</td>\n",
       "      <td>100</td>\n",
       "      <td>100</td>\n",
       "      <td>16.961130</td>\n",
       "    </tr>\n",
       "    <tr>\n",
       "      <th>2</th>\n",
       "      <td>379</td>\n",
       "      <td>51</td>\n",
       "      <td>1</td>\n",
       "      <td>1</td>\n",
       "      <td>9</td>\n",
       "      <td>3</td>\n",
       "      <td>169.0</td>\n",
       "      <td>40</td>\n",
       "      <td>1100.0</td>\n",
       "      <td>5.937536</td>\n",
       "      <td>5.129899</td>\n",
       "      <td>7.003066</td>\n",
       "      <td>81</td>\n",
       "      <td>9</td>\n",
       "      <td>23.668638</td>\n",
       "    </tr>\n",
       "    <tr>\n",
       "      <th>3</th>\n",
       "      <td>651</td>\n",
       "      <td>55</td>\n",
       "      <td>1</td>\n",
       "      <td>0</td>\n",
       "      <td>22</td>\n",
       "      <td>22</td>\n",
       "      <td>1100.0</td>\n",
       "      <td>-54</td>\n",
       "      <td>1000.0</td>\n",
       "      <td>6.478509</td>\n",
       "      <td>7.003066</td>\n",
       "      <td>6.907755</td>\n",
       "      <td>484</td>\n",
       "      <td>484</td>\n",
       "      <td>-4.909091</td>\n",
       "    </tr>\n",
       "    <tr>\n",
       "      <th>4</th>\n",
       "      <td>497</td>\n",
       "      <td>44</td>\n",
       "      <td>1</td>\n",
       "      <td>1</td>\n",
       "      <td>8</td>\n",
       "      <td>6</td>\n",
       "      <td>351.0</td>\n",
       "      <td>28</td>\n",
       "      <td>387.0</td>\n",
       "      <td>6.208590</td>\n",
       "      <td>5.860786</td>\n",
       "      <td>5.958425</td>\n",
       "      <td>64</td>\n",
       "      <td>36</td>\n",
       "      <td>7.977208</td>\n",
       "    </tr>\n",
       "    <tr>\n",
       "      <th>...</th>\n",
       "      <td>...</td>\n",
       "      <td>...</td>\n",
       "      <td>...</td>\n",
       "      <td>...</td>\n",
       "      <td>...</td>\n",
       "      <td>...</td>\n",
       "      <td>...</td>\n",
       "      <td>...</td>\n",
       "      <td>...</td>\n",
       "      <td>...</td>\n",
       "      <td>...</td>\n",
       "      <td>...</td>\n",
       "      <td>...</td>\n",
       "      <td>...</td>\n",
       "      <td>...</td>\n",
       "    </tr>\n",
       "    <tr>\n",
       "      <th>172</th>\n",
       "      <td>264</td>\n",
       "      <td>63</td>\n",
       "      <td>1</td>\n",
       "      <td>0</td>\n",
       "      <td>42</td>\n",
       "      <td>3</td>\n",
       "      <td>334.0</td>\n",
       "      <td>43</td>\n",
       "      <td>480.0</td>\n",
       "      <td>5.575949</td>\n",
       "      <td>5.811141</td>\n",
       "      <td>6.173786</td>\n",
       "      <td>1764</td>\n",
       "      <td>9</td>\n",
       "      <td>12.874251</td>\n",
       "    </tr>\n",
       "    <tr>\n",
       "      <th>173</th>\n",
       "      <td>185</td>\n",
       "      <td>58</td>\n",
       "      <td>1</td>\n",
       "      <td>0</td>\n",
       "      <td>39</td>\n",
       "      <td>1</td>\n",
       "      <td>766.0</td>\n",
       "      <td>49</td>\n",
       "      <td>560.0</td>\n",
       "      <td>5.220356</td>\n",
       "      <td>6.641182</td>\n",
       "      <td>6.327937</td>\n",
       "      <td>1521</td>\n",
       "      <td>1</td>\n",
       "      <td>6.396867</td>\n",
       "    </tr>\n",
       "    <tr>\n",
       "      <th>174</th>\n",
       "      <td>387</td>\n",
       "      <td>71</td>\n",
       "      <td>1</td>\n",
       "      <td>1</td>\n",
       "      <td>32</td>\n",
       "      <td>13</td>\n",
       "      <td>432.0</td>\n",
       "      <td>28</td>\n",
       "      <td>477.0</td>\n",
       "      <td>5.958425</td>\n",
       "      <td>6.068426</td>\n",
       "      <td>6.167517</td>\n",
       "      <td>1024</td>\n",
       "      <td>169</td>\n",
       "      <td>6.481482</td>\n",
       "    </tr>\n",
       "    <tr>\n",
       "      <th>175</th>\n",
       "      <td>2220</td>\n",
       "      <td>63</td>\n",
       "      <td>1</td>\n",
       "      <td>1</td>\n",
       "      <td>18</td>\n",
       "      <td>18</td>\n",
       "      <td>277.0</td>\n",
       "      <td>-80</td>\n",
       "      <td>540.0</td>\n",
       "      <td>7.705263</td>\n",
       "      <td>5.624018</td>\n",
       "      <td>6.291569</td>\n",
       "      <td>324</td>\n",
       "      <td>324</td>\n",
       "      <td>-28.880867</td>\n",
       "    </tr>\n",
       "    <tr>\n",
       "      <th>176</th>\n",
       "      <td>445</td>\n",
       "      <td>69</td>\n",
       "      <td>1</td>\n",
       "      <td>0</td>\n",
       "      <td>23</td>\n",
       "      <td>0</td>\n",
       "      <td>249.0</td>\n",
       "      <td>31</td>\n",
       "      <td>828.0</td>\n",
       "      <td>6.098074</td>\n",
       "      <td>5.517453</td>\n",
       "      <td>6.719013</td>\n",
       "      <td>529</td>\n",
       "      <td>0</td>\n",
       "      <td>12.449800</td>\n",
       "    </tr>\n",
       "  </tbody>\n",
       "</table>\n",
       "<p>177 rows × 15 columns</p>\n",
       "</div>"
      ],
      "text/plain": [
       "     salary  age  college  grad  comten  ceoten   sales  profits   mktval  \\\n",
       "0      1161   49        1     1       9       2  6200.0      966  23200.0   \n",
       "1       600   43        1     1      10      10   283.0       48   1100.0   \n",
       "2       379   51        1     1       9       3   169.0       40   1100.0   \n",
       "3       651   55        1     0      22      22  1100.0      -54   1000.0   \n",
       "4       497   44        1     1       8       6   351.0       28    387.0   \n",
       "..      ...  ...      ...   ...     ...     ...     ...      ...      ...   \n",
       "172     264   63        1     0      42       3   334.0       43    480.0   \n",
       "173     185   58        1     0      39       1   766.0       49    560.0   \n",
       "174     387   71        1     1      32      13   432.0       28    477.0   \n",
       "175    2220   63        1     1      18      18   277.0      -80    540.0   \n",
       "176     445   69        1     0      23       0   249.0       31    828.0   \n",
       "\n",
       "      lsalary    lsales    lmktval  comtensq  ceotensq   profmarg  \n",
       "0    7.057037  8.732305  10.051908        81         4  15.580646  \n",
       "1    6.396930  5.645447   7.003066       100       100  16.961130  \n",
       "2    5.937536  5.129899   7.003066        81         9  23.668638  \n",
       "3    6.478509  7.003066   6.907755       484       484  -4.909091  \n",
       "4    6.208590  5.860786   5.958425        64        36   7.977208  \n",
       "..        ...       ...        ...       ...       ...        ...  \n",
       "172  5.575949  5.811141   6.173786      1764         9  12.874251  \n",
       "173  5.220356  6.641182   6.327937      1521         1   6.396867  \n",
       "174  5.958425  6.068426   6.167517      1024       169   6.481482  \n",
       "175  7.705263  5.624018   6.291569       324       324 -28.880867  \n",
       "176  6.098074  5.517453   6.719013       529         0  12.449800  \n",
       "\n",
       "[177 rows x 15 columns]"
      ]
     },
     "execution_count": 3,
     "metadata": {},
     "output_type": "execute_result"
    }
   ],
   "source": [
    "df = wd.data('ceosal2')\n",
    "df"
   ]
  },
  {
   "cell_type": "markdown",
   "metadata": {},
   "source": [
    "Q1. Find the average salary and the average tenure in the sample."
   ]
  },
  {
   "cell_type": "code",
   "execution_count": 5,
   "metadata": {},
   "outputs": [
    {
     "data": {
      "text/plain": [
       "salary    865.864407\n",
       "ceoten      7.954802\n",
       "dtype: float64"
      ]
     },
     "execution_count": 5,
     "metadata": {},
     "output_type": "execute_result"
    }
   ],
   "source": [
    "df[['salary', 'ceoten']].mean()"
   ]
  },
  {
   "cell_type": "markdown",
   "metadata": {},
   "source": [
    "Q2. How many CEOs are in their first year as CEO (that is, ceoten 5 0)? What is the\n",
    "longest tenure as a CEO?"
   ]
  },
  {
   "cell_type": "code",
   "execution_count": 7,
   "metadata": {},
   "outputs": [
    {
     "data": {
      "text/plain": [
       "5"
      ]
     },
     "execution_count": 7,
     "metadata": {},
     "output_type": "execute_result"
    }
   ],
   "source": [
    "(df['ceoten'] == 0).sum()"
   ]
  },
  {
   "cell_type": "markdown",
   "metadata": {},
   "source": [
    "Q3. Estimate the simple regression model \n",
    "$$\n",
    "\\log(\\text{salary}) = \\beta_0 + \\beta_1 \\cdot \\text{ceoten} + u\n",
    "$$\n",
    "and report your results in the usual form. What is the (approximate) predicted per-\n",
    "centage increase in salary given one more year as a CEO?"
   ]
  },
  {
   "cell_type": "code",
   "execution_count": null,
   "metadata": {},
   "outputs": [],
   "source": [
    "model = smf.ols('', data = df).fit()"
   ]
  }
 ],
 "metadata": {
  "kernelspec": {
   "display_name": "base",
   "language": "python",
   "name": "python3"
  },
  "language_info": {
   "codemirror_mode": {
    "name": "ipython",
    "version": 3
   },
   "file_extension": ".py",
   "mimetype": "text/x-python",
   "name": "python",
   "nbconvert_exporter": "python",
   "pygments_lexer": "ipython3",
   "version": "3.10.9"
  }
 },
 "nbformat": 4,
 "nbformat_minor": 2
}
